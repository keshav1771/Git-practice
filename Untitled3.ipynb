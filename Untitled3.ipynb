{
  "nbformat": 4,
  "nbformat_minor": 0,
  "metadata": {
    "colab": {
      "provenance": [],
      "authorship_tag": "ABX9TyMTyJuoC7/jh3EdYIZUE+UI",
      "include_colab_link": true
    },
    "kernelspec": {
      "name": "python3",
      "display_name": "Python 3"
    },
    "language_info": {
      "name": "python"
    }
  },
  "cells": [
    {
      "cell_type": "markdown",
      "metadata": {
        "id": "view-in-github",
        "colab_type": "text"
      },
      "source": [
        "<a href=\"https://colab.research.google.com/github/keshav1771/Git-practice/blob/master/Untitled3.ipynb\" target=\"_parent\"><img src=\"https://colab.research.google.com/assets/colab-badge.svg\" alt=\"Open In Colab\"/></a>"
      ]
    },
    {
      "cell_type": "code",
      "execution_count": 8,
      "metadata": {
        "colab": {
          "base_uri": "https://localhost:8080/"
        },
        "id": "SeDA9IYtJrDC",
        "outputId": "1aa431be-bfec-4b91-d95c-32f33648def3"
      },
      "outputs": [
        {
          "output_type": "stream",
          "name": "stdout",
          "text": [
            "Roll No.1 needs to attend college regularly.\n",
            "Roll No.2 needs to improve in ML.\n",
            "Roll No.2 needs to attend college regularly.\n",
            "Roll No.3 needs to attend college regularly.\n",
            "Roll No.4 needs to improve in AI.\n",
            "Roll No.6 needs to attend college regularly.\n",
            "Roll No.9 needs to attend college regularly.\n",
            "Roll No.10 needs to attend college regularly.\n",
            "Roll No.11 needs to improve in ML.\n",
            "Roll No.12 needs to attend college regularly.\n",
            "Roll No.13 needs to improve in CN.\n",
            "Roll No.14 needs to attend college regularly.\n",
            "Roll No.17 needs to attend college regularly.\n",
            "Roll No.19 needs to attend college regularly.\n",
            "Roll No.21 needs to improve in OS.\n",
            "Roll No.22 needs to attend college regularly.\n",
            "Roll No.23 needs to attend college regularly.\n",
            "Roll No.24 needs to improve in AI.\n",
            "Roll No.25 needs to attend college regularly.\n",
            "Roll No.26 needs to improve in DSA.\n",
            "Roll No.26 needs to attend college regularly.\n",
            "Roll No.28 needs to attend college regularly.\n",
            "Roll No.30 needs to improve in AI.\n"
          ]
        }
      ],
      "source": [
        "import pandas as pd\n",
        "\n",
        "\n",
        "# Read data from CSV file\n",
        "file_path = '/content/Studentperformance.csv'\n",
        "data = pd.read_csv(file_path)\n",
        "\n",
        "# Iterate through the rows and check conditions\n",
        "for index, row in data.iterrows():\n",
        "    name = row['Roll No.']\n",
        "    marks = {\n",
        "        'AI': row['AI'],\n",
        "        'ML': row['ML'],\n",
        "        'DSA': row['DSA'],\n",
        "        'CN': row['CN'],\n",
        "        'OS': row['OS']\n",
        "    }\n",
        "    attended_days = row['Atteded_days']\n",
        "    subjects_to_improve = [subject for subject, mark in marks.items() if mark < 60]\n",
        "\n",
        "    # Check marks condition\n",
        "    if subjects_to_improve:\n",
        "        print(f\"Roll No.{name} needs to improve in {', '.join(subjects_to_improve)}.\")\n",
        "\n",
        "    # Check attendance condition\n",
        "    if attended_days < 150:\n",
        "        print(f\"Roll No.{name} needs to attend college regularly.\")\n",
        "\n",
        "\n"
      ]
    }
  ]
}